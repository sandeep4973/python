{
  "nbformat": 4,
  "nbformat_minor": 0,
  "metadata": {
    "colab": {
      "provenance": []
    },
    "kernelspec": {
      "name": "python3",
      "display_name": "Python 3"
    },
    "language_info": {
      "name": "python"
    }
  },
  "cells": [
    {
      "cell_type": "code",
      "execution_count": 2,
      "metadata": {
        "colab": {
          "base_uri": "https://localhost:8080/"
        },
        "id": "eLxtk1Codlvg",
        "outputId": "a8b12f7d-f270-4b25-99fe-71335e522f50"
      },
      "outputs": [
        {
          "output_type": "stream",
          "name": "stdout",
          "text": [
            "          name age\n",
            "True   Sandeep  19\n",
            "False     mahi  21\n",
            "True     Umesh  22\n"
          ]
        }
      ],
      "source": [
        "# Exercise 07:\n",
        "import pandas as pd\n",
        "dict={'name':[\"Sandeep\",\"mahi\",\"Umesh\"],\n",
        "'age':[\"19\",\"21\",\"22\"]}\n",
        "a=pd.DataFrame(dict,index=[True,False,True])\n",
        "print(a)"
      ]
    },
    {
      "cell_type": "code",
      "source": [
        "import pandas as pd\n",
        "dict={'name':[\"Sandeep\",\"mahi\",\"Umesh\"],\n",
        "'age':[\"19\",\"21\",\"22\"]}\n",
        "a=pd.DataFrame(dict,index=[True,False,True])\n",
        "print(a.loc[True])"
      ],
      "metadata": {
        "colab": {
          "base_uri": "https://localhost:8080/"
        },
        "id": "qP1x6MiOewFs",
        "outputId": "01dab66c-c328-4d92-80e6-9a65d22ac6d2"
      },
      "execution_count": 3,
      "outputs": [
        {
          "output_type": "stream",
          "name": "stdout",
          "text": [
            "         name age\n",
            "True  Sandeep  19\n",
            "True    Umesh  22\n"
          ]
        }
      ]
    },
    {
      "cell_type": "code",
      "source": [
        "import numpy as np\n",
        "arr=np.arange(16)\n",
        "print(\"The Original array is:\\n\",arr)\n",
        "arr=np.arange(16).reshape(2,8)\n",
        "print(\"\\nreshapedarray: \\n\",arr)\n",
        "arr=np.arange(16).reshape(8,2)\n",
        "print(\"\\nreshaped array:\\n\",arr)"
      ],
      "metadata": {
        "colab": {
          "base_uri": "https://localhost:8080/"
        },
        "id": "iuad0tfifFBS",
        "outputId": "a2dffa0f-074c-4b08-e2b5-fdb3867ed265"
      },
      "execution_count": 7,
      "outputs": [
        {
          "output_type": "stream",
          "name": "stdout",
          "text": [
            "The Original array is:\n",
            " [ 0  1  2  3  4  5  6  7  8  9 10 11 12 13 14 15]\n",
            "\n",
            "reshapedarray: \n",
            " [[ 0  1  2  3  4  5  6  7]\n",
            " [ 8  9 10 11 12 13 14 15]]\n",
            "\n",
            "reshaped array:\n",
            " [[ 0  1]\n",
            " [ 2  3]\n",
            " [ 4  5]\n",
            " [ 6  7]\n",
            " [ 8  9]\n",
            " [10 11]\n",
            " [12 13]\n",
            " [14 15]]\n"
          ]
        }
      ]
    }
  ]
}